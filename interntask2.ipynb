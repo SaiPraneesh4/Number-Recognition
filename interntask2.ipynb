{
 "cells": [
  {
   "cell_type": "code",
   "execution_count": 3,
   "id": "4e8f73bb",
   "metadata": {},
   "outputs": [
    {
     "name": "stdout",
     "output_type": "stream",
     "text": [
      "Epoch 1/10\n",
      "300/300 - 3s - loss: 0.3797 - accuracy: 0.8970 - val_loss: 0.1879 - val_accuracy: 0.9451 - 3s/epoch - 11ms/step\n",
      "Epoch 2/10\n",
      "300/300 - 2s - loss: 0.1533 - accuracy: 0.9553 - val_loss: 0.1328 - val_accuracy: 0.9588 - 2s/epoch - 7ms/step\n",
      "Epoch 3/10\n",
      "300/300 - 2s - loss: 0.1086 - accuracy: 0.9682 - val_loss: 0.1092 - val_accuracy: 0.9664 - 2s/epoch - 6ms/step\n",
      "Epoch 4/10\n",
      "300/300 - 2s - loss: 0.0832 - accuracy: 0.9751 - val_loss: 0.0976 - val_accuracy: 0.9720 - 2s/epoch - 6ms/step\n",
      "Epoch 5/10\n",
      "300/300 - 2s - loss: 0.0672 - accuracy: 0.9798 - val_loss: 0.0837 - val_accuracy: 0.9755 - 2s/epoch - 6ms/step\n",
      "Epoch 6/10\n",
      "300/300 - 2s - loss: 0.0555 - accuracy: 0.9833 - val_loss: 0.0811 - val_accuracy: 0.9755 - 2s/epoch - 6ms/step\n",
      "Epoch 7/10\n",
      "300/300 - 2s - loss: 0.0458 - accuracy: 0.9865 - val_loss: 0.0807 - val_accuracy: 0.9762 - 2s/epoch - 6ms/step\n",
      "Epoch 8/10\n",
      "300/300 - 2s - loss: 0.0379 - accuracy: 0.9888 - val_loss: 0.0840 - val_accuracy: 0.9745 - 2s/epoch - 6ms/step\n",
      "Epoch 9/10\n",
      "300/300 - 2s - loss: 0.0313 - accuracy: 0.9908 - val_loss: 0.0749 - val_accuracy: 0.9765 - 2s/epoch - 6ms/step\n",
      "Epoch 10/10\n",
      "300/300 - 2s - loss: 0.0264 - accuracy: 0.9919 - val_loss: 0.0780 - val_accuracy: 0.9761 - 2s/epoch - 6ms/step\n",
      "1/1 [==============================] - 0s 104ms/step\n",
      "Predicted Digit: 8\n"
     ]
    }
   ],
   "source": [
    "import numpy as np\n",
    "from keras.datasets import mnist\n",
    "from keras.models import Sequential\n",
    "from keras.layers import Dense, Flatten\n",
    "from keras.utils import to_categorical\n",
    "\n",
    "# Load MNIST dataset\n",
    "(X_train, y_train), (X_test, y_test) = mnist.load_data()\n",
    "\n",
    "# Preprocess the data\n",
    "X_train = X_train.reshape(X_train.shape[0], 28, 28, 1).astype('uint8')  # Use uint8 data type for pixel values\n",
    "X_test = X_test.reshape(X_test.shape[0], 28, 28, 1).astype('uint8')  # Use uint8 data type for pixel values\n",
    "X_train = X_train / 255  # Normalize pixel values between 0 and 1\n",
    "X_test = X_test / 255  # Normalize pixel values between 0 and 1\n",
    "\n",
    "# One-hot encode the labels\n",
    "y_train = to_categorical(y_train, 10)\n",
    "y_test = to_categorical(y_test, 10)\n",
    "\n",
    "# Build the neural network model\n",
    "model = Sequential()\n",
    "model.add(Flatten(input_shape=(28, 28, 1)))\n",
    "model.add(Dense(128, activation='relu'))\n",
    "model.add(Dense(64, activation='relu'))\n",
    "model.add(Dense(10, activation='softmax'))\n",
    "\n",
    "# Compile the model\n",
    "model.compile(loss='categorical_crossentropy', optimizer='adam', metrics=['accuracy'])\n",
    "\n",
    "# Train the model\n",
    "model.fit(X_train, y_train, validation_data=(X_test, y_test), epochs=10, batch_size=200, verbose=2)\n",
    "\n",
    "# Save the model for later use\n",
    "model.save('digit_recognition_model.keras')\n",
    "\n",
    "# Example: Load the model and make predictions on new scanned images\n",
    "from keras.models import load_model\n",
    "from keras.preprocessing import image\n",
    "\n",
    "# Load the trained model\n",
    "loaded_model = load_model('digit_recognition_model.keras')\n",
    "\n",
    "# Example: Path to the scanned image file\n",
    "image_path = 'download.jpeg'\n",
    "\n",
    "# Load and preprocess the scanned image\n",
    "scanned_image = image.load_img(image_path, target_size=(28, 28), color_mode='grayscale')\n",
    "scanned_image = image.img_to_array(scanned_image)\n",
    "scanned_image = np.expand_dims(scanned_image, axis=0)\n",
    "scanned_image = scanned_image.astype('uint8')  # Use uint8 data type for pixel values\n",
    "scanned_image = scanned_image / 255  # Normalize pixel values between 0 and 1\n",
    "\n",
    "# Make a prediction\n",
    "prediction = loaded_model.predict(scanned_image)\n",
    "predicted_digit = np.argmax(prediction)\n",
    "\n",
    "print(\"Predicted Digit:\", predicted_digit)"
   ]
  },
  {
   "cell_type": "code",
   "execution_count": null,
   "id": "eb059660",
   "metadata": {},
   "outputs": [],
   "source": []
  }
 ],
 "metadata": {
  "kernelspec": {
   "display_name": "Python 3 (ipykernel)",
   "language": "python",
   "name": "python3"
  },
  "language_info": {
   "codemirror_mode": {
    "name": "ipython",
    "version": 3
   },
   "file_extension": ".py",
   "mimetype": "text/x-python",
   "name": "python",
   "nbconvert_exporter": "python",
   "pygments_lexer": "ipython3",
   "version": "3.11.5"
  }
 },
 "nbformat": 4,
 "nbformat_minor": 5
}
